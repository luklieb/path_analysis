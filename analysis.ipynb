{
 "cells": [
  {
   "cell_type": "code",
   "execution_count": 4,
   "id": "geological-millennium",
   "metadata": {},
   "outputs": [
    {
     "data": {
      "text/plain": [
       "'6.12.1'"
      ]
     },
     "execution_count": 4,
     "metadata": {},
     "output_type": "execute_result"
    }
   ],
   "source": [
    "import pandas as pd\n",
    "import numpy as np\n",
    "import matplotlib.pyplot as plt\n",
    "from matplotlib.widgets import Slider\n",
    "from functools import partial\n",
    "\n",
    "import ipykernel\n",
    "ipykernel.__version__"
   ]
  },
  {
   "cell_type": "code",
   "execution_count": 5,
   "id": "pretty-afternoon",
   "metadata": {},
   "outputs": [],
   "source": [
    "%matplotlib inline"
   ]
  },
  {
   "cell_type": "code",
   "execution_count": 6,
   "id": "electric-bachelor",
   "metadata": {},
   "outputs": [],
   "source": [
    "path = pd.read_csv('path.csv')\n",
    "tracker = pd.read_csv('tracker.csv')"
   ]
  },
  {
   "cell_type": "code",
   "execution_count": 38,
   "id": "299d8b48",
   "metadata": {},
   "outputs": [
    {
     "name": "stdout",
     "output_type": "stream",
     "text": [
      "path info:\n",
      "<class 'pandas.core.frame.DataFrame'>\n",
      "RangeIndex: 145841 entries, 0 to 145840\n",
      "Data columns (total 6 columns):\n",
      " #   Column   Non-Null Count   Dtype  \n",
      "---  ------   --------------   -----  \n",
      " 0   unnamed  145841 non-null  int64  \n",
      " 1   index    145841 non-null  int64  \n",
      " 2   x        145841 non-null  float64\n",
      " 3   y        145841 non-null  float64\n",
      " 4   z        145841 non-null  float64\n",
      " 5   t        145841 non-null  int64  \n",
      "dtypes: float64(3), int64(3)\n",
      "memory usage: 6.7 MB\n",
      "tracker info:\n",
      "<class 'pandas.core.frame.DataFrame'>\n",
      "RangeIndex: 546943 entries, 0 to 546942\n",
      "Data columns (total 6 columns):\n",
      " #   Column   Non-Null Count   Dtype  \n",
      "---  ------   --------------   -----  \n",
      " 0   unnamed  546943 non-null  int64  \n",
      " 1   index    546943 non-null  int64  \n",
      " 2   x        546943 non-null  float64\n",
      " 3   y        546943 non-null  float64\n",
      " 4   z        546943 non-null  float64\n",
      " 5   t        546943 non-null  int64  \n",
      "dtypes: float64(3), int64(3)\n",
      "memory usage: 25.0 MB\n",
      "path first entries:\n",
      "   unnamed  index      x      y             z                    t\n",
      "0        0    177  450.0  700.0  1.136868e-13  1633969004350000000\n",
      "1        1    178  450.0  700.0  0.000000e+00  1633969004400000000\n",
      "2        2    179  450.0  700.0  0.000000e+00  1633969004450000000\n",
      "3        3    180  450.0  700.0  0.000000e+00  1633969004500000000\n",
      "4        4    181  450.0  700.0  0.000000e+00  1633969004550000000\n",
      "5        5    182  450.0  700.0  0.000000e+00  1633969004600000000\n",
      "6        6    183  450.0  700.0  0.000000e+00  1633969004650000000\n",
      "7        7    184  450.0  700.0  0.000000e+00  1633969004700000000\n",
      "8        8    185  450.0  700.0  0.000000e+00  1633969004750000000\n",
      "9        9    186  450.0  700.0  0.000000e+00  1633969004800000000\n",
      "tracker first entries:\n",
      "   unnamed  index          x          y            z                    t\n",
      "0        0   3180 -36.507133 -40.170982 -2915.784424  1633969004633871000\n",
      "1        1   3181 -36.543438 -40.260765 -2915.713623  1633969004648860000\n",
      "2        2   3182 -36.645119 -40.364326 -2915.732910  1633969004662330000\n",
      "3        3   3183 -36.709301 -40.413754 -2915.772949  1633969004674115000\n",
      "4        4   3184 -36.720108 -40.421989 -2915.788086  1633969004687849000\n",
      "5        5   3185 -36.724915 -40.427578 -2915.725586  1633969004699959000\n",
      "6        6   3186 -36.668312 -40.436436 -2915.676758  1633969004713613000\n",
      "7        7   3187 -36.652710 -40.457592 -2915.729492  1633969004730045000\n",
      "8        8   3188 -36.705055 -40.492893 -2915.809814  1633969004741991000\n",
      "9        9   3189 -36.777580 -40.530525 -2915.860596  1633969004754114000\n",
      "path last entries:\n",
      "        unnamed   index           x           y    z                    t\n",
      "145831   145831  146008  452.842457  701.562654  0.0  1633976295900000000\n",
      "145832   145832  146009  447.406042  705.512440  0.0  1633976295950000000\n",
      "145833   145833  146010  452.304550  700.912436  0.0  1633976296000000000\n",
      "145834   145834  146011  449.915399  706.732001  0.0  1633976296050000000\n",
      "145835   145835  146012  447.821665  700.799745  0.0  1633976296100000000\n",
      "145836   145836  146013  453.334420  703.830407  0.0  1633976296150000000\n",
      "145837   145837  146014  447.203772  705.241272  0.0  1633976296200000000\n",
      "145838   145838  146015  448.839749  700.206254  0.0  1633976296250000000\n",
      "145839   145839  146016  451.547190  706.356472  0.0  1633976296300000000\n",
      "145840   145840  146017  448.090271  700.594083  0.0  1633976296350000000\n",
      "tracker last entries:\n",
      "        unnamed   index          x          y            z  \\\n",
      "546933   546933  550113 -36.874657 -30.809038 -2912.166748   \n",
      "546934   546934  550114 -36.700726 -29.833389 -2911.989990   \n",
      "546935   546935  550115 -36.479523 -28.752605 -2911.753662   \n",
      "546936   546936  550116 -36.261326 -27.567085 -2911.441650   \n",
      "546937   546937  550117 -36.008144 -26.304020 -2911.068115   \n",
      "546938   546938  550118 -35.735081 -24.971382 -2910.671631   \n",
      "546939   546939  550119 -35.476555 -23.567873 -2910.265625   \n",
      "546940   546940  550120 -35.200634 -22.105921 -2909.841064   \n",
      "546941   546941  550121 -34.895008 -20.589333 -2909.393311   \n",
      "546942   546942  550122 -34.612679 -19.015917 -2908.931641   \n",
      "\n",
      "                          t  \n",
      "546933  1633976297608420000  \n",
      "546934  1633976297620964000  \n",
      "546935  1633976297634683000  \n",
      "546936  1633976297648541000  \n",
      "546937  1633976297661519000  \n",
      "546938  1633976297674323000  \n",
      "546939  1633976297688051000  \n",
      "546940  1633976297701103000  \n",
      "546941  1633976297713388000  \n",
      "546942  1633976297727091000  \n",
      "Diff for same index: 149.866129 sec\n",
      "Num entries in tracker is 3.7502691287086622 times larger than path\n"
     ]
    }
   ],
   "source": [
    "# Quick overviews\n",
    "print(f\"path info:\")\n",
    "path.info()\n",
    "print(f\"tracker info:\")\n",
    "tracker.info()\n",
    "print(f\"path first entries:\", f\"{path.iloc[:10]}\", sep='\\n')\n",
    "print(f\"tracker first entries:\", f\"{tracker.iloc[:10]}\", sep='\\n')\n",
    "print(f\"path last entries:\", f\"{path.iloc[-10:]}\", sep='\\n')\n",
    "print(f\"tracker last entries:\", f\"{tracker.iloc[-10:]}\", sep='\\n')\n",
    "# index==3180 first entry in index column that's the same for both path and tracker datasets \n",
    "t_diff_same_index = (path.loc[path['index'] == 3180]['t'].values[0] - tracker.loc[tracker['index'] == 3180]['t'].values[0])*1e-9\n",
    "print(f\"Diff for same index: {t_diff_same_index} sec\")\n",
    "# Not sure what the 'index' column is for...\n",
    "print(f\"Num entries in tracker is {len(tracker)/len(path)} times larger than path\")"
   ]
  },
  {
   "cell_type": "code",
   "execution_count": 8,
   "metadata": {},
   "outputs": [],
   "source": [
    "# Unifiy colum names\n",
    "column_names = ['unnamed', 'index', 'x', 'y', 'z', 't']\n",
    "path.columns = column_names\n",
    "tracker.columns = column_names"
   ]
  },
  {
   "cell_type": "code",
   "execution_count": 9,
   "id": "0b9a972c",
   "metadata": {},
   "outputs": [],
   "source": [
    "\n",
    "def df_mean_of_diffs(df, column, scale=1):\n",
    "    tdata = df[[column]]\n",
    "    diff = tdata.diff()\n",
    "    return diff.mean().values[0]*scale\n",
    "\n",
    "def df_var_of_diffs(df, column, scale=1):\n",
    "    tdata = df[[column]]\n",
    "    diff = tdata.diff()\n",
    "    return diff.var().values[0]*scale\n",
    "\n",
    "def df_start(df, column, scale=1):\n",
    "    return df[[column]].iloc[0].values[0]*scale\n",
    "\n",
    "def df_end(df, column, scale=1):\n",
    "    return df[[column]].iloc[-1].values[0]*scale\n",
    "    \n",
    "def df_min(df, column, scale=1):\n",
    "    return df[[column]].min().values[0]*scale\n",
    "\n",
    "def df_max(df, column, scale=1):\n",
    "    return df[[column]].max().values[0]*scale"
   ]
  },
  {
   "cell_type": "code",
   "execution_count": 10,
   "id": "102a993b",
   "metadata": {},
   "outputs": [
    {
     "name": "stdout",
     "output_type": "stream",
     "text": [
      "time step path: 0.05 sec, var: 0.0\n",
      "time step tracker: 0.0133343082447499 sec, var: 1565.1635220479013\n",
      "start time path: 1633969004.3500001 sec, end: 1633976296.3500001 sec\n",
      "start time tracker based on path: 0.2838711738586426 sec, end: 1.3770909309387207 sec\n",
      "min of tracker timestamp diff: 0.0036330000000000004 sec, max: 0.07236300000000001 sec\n"
     ]
    }
   ],
   "source": [
    "#what's in unnamed and index?\n",
    "#max time, time step\n",
    "#max movement for both dfs\n",
    "#etc\n",
    "\n",
    "# Looks like nano sec resolution (1e-9) with unix epoch 1/1/1970\n",
    "print(f'time step path: {df_mean_of_diffs(path, \"t\", 1e-9 )} sec, var: {df_var_of_diffs(path, \"t\", 1e-9)}')\n",
    "print(f'time step tracker: {df_mean_of_diffs(tracker, \"t\", 1e-9 )} sec, var: {df_var_of_diffs(tracker, \"t\", 1e-9)}')\n",
    "\n",
    "# Variance of tracker timestamps is not null, so investigate further\n",
    "\n",
    "start_time_path = df_start(path, \"t\", 1e-9)\n",
    "end_time_path = df_end(path, \"t\", 1e-9)\n",
    "print(f'start time path: {start_time_path} sec, end: {end_time_path} sec')\n",
    "print(f'start time tracker based on path: {df_start(tracker, \"t\", 1e-9)-start_time_path} sec, end: {df_end(tracker, \"t\", 1e-9)-end_time_path} sec')\n",
    "\n",
    "# Something weird is going on with the timestamp of the tracker data\n",
    "# Let's investigate\n",
    "print(f'min of tracker timestamp diff: {tracker[[\"t\"]].diff().min().values[0]*1e-9} sec, max: {tracker[[\"t\"]].diff().max().values[0]*1e-9} sec')\n",
    "\n",
    "# tracker time steps are between 0.0036 sec and 0.072 sec\n",
    "# path time steps are constant   0.05 sec\n",
    "# Both datasets start at roughly the same time (+0.28 sec) and end roughly at the same time (+1.38 sec)\n"
   ]
  },
  {
   "cell_type": "code",
   "execution_count": 11,
   "id": "solar-introduction",
   "metadata": {},
   "outputs": [],
   "source": [
    "START = 0\n",
    "END = 100\n",
    "SKIP = 5"
   ]
  },
  {
   "cell_type": "code",
   "execution_count": 12,
   "id": "impaired-field",
   "metadata": {},
   "outputs": [],
   "source": [
    "def get_data_slices(df, start, end, skip):\n",
    "    xdata = df[['x']].iloc[start:end:skip]\n",
    "    ydata = df[['y']].iloc[start:end:skip]\n",
    "    zdata = df[['z']].iloc[start:end:skip]\n",
    "    tdata = df[['t']].iloc[start:end:skip]\n",
    "    return xdata, ydata, zdata, tdata\n",
    "\n",
    "# computationally intense...\n",
    "# Either cache some timestamps, or since timestamps are already sorted\n",
    "# memorize them, so we can use them in future calls as 'quick' known\n",
    "# entry points / hints. \n",
    "#@cache available in >= 3.9\n",
    "# !!! cache only works with the same df for now...\n",
    "def find_closest_timestamp(df, timestamp, _cache = {}):\n",
    "    if timestamp in _cache:\n",
    "        id = _cache[timestamp]\n",
    "    else:\n",
    "        id = df[['t']].sub(timestamp).abs().idxmin().values[0]\n",
    "        _cache[timestamp] = id\n",
    "\n",
    "    return id\n",
    "\n",
    "def update_plot(slider, time_step, val):\n",
    "    path_index = int(slider.val / time_step)\n",
    "    slice_path = get_data_slices(path, START, path_index, SKIP)\n",
    "    # because t_steps are different, we have to look for the\n",
    "    # correct index corresponding to path ind's\n",
    "    tracker_index = find_closest_timestamp(tracker, path[['t']].iloc[path_index].values[0])\n",
    "    slice_tracker = get_data_slices(tracker, START, tracker_index, SKIP)\n",
    "    ax3d.clear()\n",
    "    ax3d.scatter3D(slice_path[0], slice_path[1], slice_path[2], c=slice_path[3], cmap='hsv')\n",
    "    ax3d.scatter3D(slice_tracker[0], slice_tracker[1], slice_tracker[2], c=slice_tracker[3], cmap='hsv')\n",
    "    fig.canvas.draw()\n"
   ]
  },
  {
   "cell_type": "code",
   "execution_count": 13,
   "id": "naughty-coast",
   "metadata": {},
   "outputs": [
    {
     "data": {
      "image/png": "[encoded data removed]",
      "text/plain": [
       "<Figure size 432x288 with 3 Axes>"
      ]
     },
     "metadata": {
      "needs_background": "light"
     },
     "output_type": "display_data"
    }
   ],
   "source": [
    "fig = plt.figure()\n",
    "ax = plt.subplot(111, label='a')\n",
    "fig.subplots_adjust(left=0.25, bottom=0.25)\n",
    "ax3d = plt.axes(projection='3d', label='b')\n",
    "\n",
    "t_bias = df_start(path, \"t\", 1e-9)\n",
    "t_end = (df_end(path, \"t\", 1e-9) - t_bias)\n",
    "t_step = df_mean_of_diffs(path, \"t\", 1e-9 )\n",
    "\n",
    "axcolor = 'lightgoldenrodyellow'\n",
    "axfreq = plt.axes([0.25, 0.1, 0.65, 0.03], facecolor=axcolor)\n",
    "slider = Slider(axfreq, 'Time', 1., t_end, valinit=0, valstep=10)\n",
    "\n",
    "slider.on_changed(partial(update_plot, slider, t_step))\n",
    "\n",
    "plt.show()\n"
   ]
  },
  {
   "cell_type": "markdown",
   "id": "09fb8c1c",
   "metadata": {},
   "source": [
    "### Observations:\n",
    "- tracker has more time steps than path\n",
    "    - Could get rid of some rows in tracker to avoid costly call to `find_closest_timestamp` and only keep the rows with timestamps closest to the timestamps of path\n",
    "- values in 'index' columns increas with each entry\n",
    "- Recording of ~ 2hrs\n",
    "- Tracker circles look smooshed\n",
    "\n",
    "#### TODO\n",
    "- Remove rows in tracker (align timestamps as much as possible)\n",
    "- coordinate transformation?\n",
    "    - shift by mean?\n",
    "    - normalize with var?\n",
    "- Plot error/diff for each timestamp for each axis\n"
   ]
  },
  {
   "cell_type": "code",
   "execution_count": null,
   "id": "df4a84c9",
   "metadata": {},
   "outputs": [],
   "source": []
  }
 ],
 "metadata": {
  "kernelspec": {
   "display_name": "Python 3",
   "language": "python",
   "name": "python3"
  },
  "language_info": {
   "codemirror_mode": {
    "name": "ipython",
    "version": 3
   },
   "file_extension": ".py",
   "mimetype": "text/x-python",
   "name": "python",
   "nbconvert_exporter": "python",
   "pygments_lexer": "ipython3",
   "version": "3.8.0"
  }
 },
 "nbformat": 4,
 "nbformat_minor": 5
}
