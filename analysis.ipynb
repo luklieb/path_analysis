{
 "cells": [
  {
   "cell_type": "code",
   "execution_count": 2,
   "id": "geological-millennium",
   "metadata": {},
   "outputs": [
    {
     "data": {
      "text/plain": [
       "'6.12.1'"
      ]
     },
     "execution_count": 2,
     "metadata": {},
     "output_type": "execute_result"
    }
   ],
   "source": [
    "import pandas as pd\n",
    "import numpy as np\n",
    "import matplotlib.pyplot as plt\n",
    "from matplotlib.widgets import Slider\n",
    "from functools import partial\n",
    "\n",
    "import ipykernel\n",
    "ipykernel.__version__"
   ]
  },
  {
   "cell_type": "code",
   "execution_count": 3,
   "id": "pretty-afternoon",
   "metadata": {},
   "outputs": [],
   "source": [
    "%matplotlib qt"
   ]
  },
  {
   "cell_type": "code",
   "execution_count": 4,
   "id": "electric-bachelor",
   "metadata": {},
   "outputs": [],
   "source": [
    "path = pd.read_csv('path.csv')\n",
    "tracker = pd.read_csv('tracker.csv')"
   ]
  },
  {
   "cell_type": "code",
   "execution_count": 5,
   "id": "299d8b48",
   "metadata": {},
   "outputs": [
    {
     "name": "stdout",
     "output_type": "stream",
     "text": [
      "<class 'pandas.core.frame.DataFrame'>\n",
      "RangeIndex: 145841 entries, 0 to 145840\n",
      "Data columns (total 6 columns):\n",
      " #   Column      Non-Null Count   Dtype  \n",
      "---  ------      --------------   -----  \n",
      " 0   Unnamed: 0  145841 non-null  int64  \n",
      " 1   index       145841 non-null  int64  \n",
      " 2   x_pth       145841 non-null  float64\n",
      " 3   y_pth       145841 non-null  float64\n",
      " 4   z_pth       145841 non-null  float64\n",
      " 5   t_pth       145841 non-null  int64  \n",
      "dtypes: float64(3), int64(3)\n",
      "memory usage: 6.7 MB\n",
      "None\n",
      "<class 'pandas.core.frame.DataFrame'>\n",
      "RangeIndex: 546943 entries, 0 to 546942\n",
      "Data columns (total 6 columns):\n",
      " #   Column      Non-Null Count   Dtype  \n",
      "---  ------      --------------   -----  \n",
      " 0   Unnamed: 0  546943 non-null  int64  \n",
      " 1   index       546943 non-null  int64  \n",
      " 2   x_trk       546943 non-null  float64\n",
      " 3   y_trk       546943 non-null  float64\n",
      " 4   z_trk       546943 non-null  float64\n",
      " 5   t_trk       546943 non-null  int64  \n",
      "dtypes: float64(3), int64(3)\n",
      "memory usage: 25.0 MB\n",
      "None\n",
      "Num entries in tracker is 3.7502691287086622 times larger than path\n"
     ]
    }
   ],
   "source": [
    "#Add overview of dfs\n",
    "print(path.info())\n",
    "print(tracker.info())\n",
    "print(f\"Num entries in tracker is {len(tracker)/len(path)} times larger than path\")"
   ]
  },
  {
   "cell_type": "code",
   "execution_count": 6,
   "metadata": {},
   "outputs": [],
   "source": [
    "# Unifiy colum names\n",
    "column_names = ['unnamed', 'index', 'x', 'y', 'z', 't']\n",
    "path.columns = column_names\n",
    "tracker.columns = column_names"
   ]
  },
  {
   "cell_type": "code",
   "execution_count": 7,
   "id": "0b9a972c",
   "metadata": {},
   "outputs": [],
   "source": [
    "\n",
    "def df_mean_of_diffs(df, column, scale=1):\n",
    "    tdata = df[[column]]\n",
    "    diff = tdata.diff()\n",
    "    return diff.mean().values[0]*scale\n",
    "\n",
    "def df_var_of_diffs(df, column, scale=1):\n",
    "    tdata = df[[column]]\n",
    "    diff = tdata.diff()\n",
    "    return diff.var().values[0]*scale\n",
    "\n",
    "def df_start(df, column, scale=1):\n",
    "    return df[[column]].iloc[0].values[0]*scale\n",
    "\n",
    "def df_end(df, column, scale=1):\n",
    "    return df[[column]].iloc[-1].values[0]*scale\n",
    "    \n",
    "def df_min(df, column, scale=1):\n",
    "    return df[[column]].min().values[0]*scale\n",
    "\n",
    "def df_max(df, column, scale=1):\n",
    "    return df[[column]].max().values[0]*scale"
   ]
  },
  {
   "cell_type": "code",
   "execution_count": 8,
   "id": "102a993b",
   "metadata": {},
   "outputs": [
    {
     "name": "stdout",
     "output_type": "stream",
     "text": [
      "time step path: 0.05 sec, var: 0.0\n",
      "time step tracker: 0.0133343082447499 sec, var: 1565.1635220479013\n",
      "start time path: 1633969004.3500001 sec, end: 1633976296.3500001 sec\n",
      "start time tracker based on path: 0.2838711738586426 sec, end: 1.3770909309387207 sec\n",
      "min of tracker timestamp diff: 0.0036330000000000004 sec, max: 0.07236300000000001 sec\n"
     ]
    }
   ],
   "source": [
    "#what's in unnamed and index?\n",
    "#max time, time step\n",
    "#max movement for both dfs\n",
    "#etc\n",
    "\n",
    "# Looks like nano sec resolution (1e-9) with unix epoch 1/1/1970\n",
    "print(f'time step path: {df_mean_of_diffs(path, \"t\", 1e-9 )} sec, var: {df_var_of_diffs(path, \"t\", 1e-9)}')\n",
    "print(f'time step tracker: {df_mean_of_diffs(tracker, \"t\", 1e-9 )} sec, var: {df_var_of_diffs(tracker, \"t\", 1e-9)}')\n",
    "\n",
    "# Variance of tracker timestamps is not null, so investigate further\n",
    "\n",
    "start_time_path = df_start(path, \"t\", 1e-9)\n",
    "end_time_path = df_end(path, \"t\", 1e-9)\n",
    "print(f'start time path: {start_time_path} sec, end: {end_time_path} sec')\n",
    "print(f'start time tracker based on path: {df_start(tracker, \"t\", 1e-9)-start_time_path} sec, end: {df_end(tracker, \"t\", 1e-9)-end_time_path} sec')\n",
    "\n",
    "# Something weird is going on with the timestamp of the tracker data\n",
    "# Let's investigate\n",
    "print(f'min of tracker timestamp diff: {tracker[[\"t\"]].diff().min().values[0]*1e-9} sec, max: {tracker[[\"t\"]].diff().max().values[0]*1e-9} sec')\n",
    "\n",
    "# tracker time steps are between 0.0036 sec and 0.072 sec\n",
    "# path time steps are constant   0.05 sec\n",
    "# Both datasets start at roughly the same time (+0.28 sec) and end roughly at the same time (+1.38 sec)\n"
   ]
  },
  {
   "cell_type": "code",
   "execution_count": null,
   "id": "6a6e9828",
   "metadata": {},
   "outputs": [],
   "source": []
  },
  {
   "cell_type": "code",
   "execution_count": 9,
   "id": "solar-introduction",
   "metadata": {},
   "outputs": [],
   "source": [
    "START = 0\n",
    "END = 100\n",
    "SKIP = 5"
   ]
  },
  {
   "cell_type": "code",
   "execution_count": 33,
   "id": "impaired-field",
   "metadata": {},
   "outputs": [],
   "source": [
    "def get_data_slices(df, start, end, skip):\n",
    "    xdata = df[['x']].iloc[start:end:skip]\n",
    "    ydata = df[['y']].iloc[start:end:skip]\n",
    "    zdata = df[['z']].iloc[start:end:skip]\n",
    "    tdata = df[['t']].iloc[start:end:skip]\n",
    "    return xdata, ydata, zdata, tdata\n",
    "\n",
    "# computationally intense...\n",
    "# Either cache some timestamps, or since timestamps are already sorted\n",
    "# memorize them, so we can use them in future calls as 'quick' known\n",
    "# entry points / hints. \n",
    "#@cache available in >= 3.9\n",
    "# !!! cache only works with the same df for now...\n",
    "def find_closest_timestamp(df, timestamp, _cache = {}):\n",
    "    if timestamp in _cache:\n",
    "        id = _cache[timestamp]\n",
    "    else:\n",
    "        id = df[['t']].sub(timestamp).abs().idxmin().values[0]\n",
    "        _cache[timestamp] = id\n",
    "\n",
    "    return id\n",
    "\n",
    "def update_plot(slider, time_step, val):\n",
    "    path_index = int(slider.val / time_step)\n",
    "    slice_path = get_data_slices(path, START, path_index, SKIP)\n",
    "    # because t_steps are different, we have to look for the\n",
    "    # correct index corresponding to path ind's\n",
    "    tracker_index = find_closest_timestamp(tracker, path[['t']].iloc[path_index].values[0])\n",
    "    slice_tracker = get_data_slices(tracker, START, tracker_index, SKIP)\n",
    "    ax3d.clear()\n",
    "    ax3d.scatter3D(slice_path[0], slice_path[1], slice_path[2], c=slice_path[3], cmap='hsv')\n",
    "    ax3d.scatter3D(slice_tracker[0], slice_tracker[1], slice_tracker[2], c=slice_tracker[3], cmap='hsv')\n",
    "    fig.canvas.draw()\n"
   ]
  },
  {
   "cell_type": "code",
   "execution_count": 34,
   "id": "naughty-coast",
   "metadata": {},
   "outputs": [
    {
     "name": "stdout",
     "output_type": "stream",
     "text": [
      "IN CACHE!!!!!\n",
      "IN CACHE!!!!!\n",
      "IN CACHE!!!!!\n",
      "IN CACHE!!!!!\n",
      "IN CACHE!!!!!\n",
      "IN CACHE!!!!!\n",
      "IN CACHE!!!!!\n",
      "IN CACHE!!!!!\n",
      "IN CACHE!!!!!\n",
      "IN CACHE!!!!!\n",
      "IN CACHE!!!!!\n",
      "IN CACHE!!!!!\n",
      "IN CACHE!!!!!\n",
      "IN CACHE!!!!!\n"
     ]
    }
   ],
   "source": [
    "fig = plt.figure()\n",
    "ax = plt.subplot(111, label='a')\n",
    "fig.subplots_adjust(left=0.25, bottom=0.25)\n",
    "ax3d = plt.axes(projection='3d', label='b')\n",
    "\n",
    "t_bias = df_start(path, \"t\", 1e-9)\n",
    "t_end = (df_end(path, \"t\", 1e-9) - t_bias)\n",
    "t_step = df_mean_of_diffs(path, \"t\", 1e-9 )\n",
    "\n",
    "axcolor = 'lightgoldenrodyellow'\n",
    "axfreq = plt.axes([0.25, 0.1, 0.65, 0.03], facecolor=axcolor)\n",
    "slider = Slider(axfreq, 'Time', 1., t_end, valinit=0, valstep=10)\n",
    "\n",
    "slider.on_changed(partial(update_plot, slider, t_step))\n",
    "\n",
    "plt.show()\n"
   ]
  },
  {
   "cell_type": "markdown",
   "id": "09fb8c1c",
   "metadata": {},
   "source": [
    "### Observations:\n",
    "- tracker has more time steps than path\n",
    "    - Could get rid of some rows in tracker to avoid costly call to `find_closest_timestamp` and only keep the rows with timestamps closest to the timestamps of path\n",
    "- Recording of ~ 2hrs\n",
    "- Tracker circles look smooshed\n"
   ]
  },
  {
   "cell_type": "code",
   "execution_count": 12,
   "id": "incomplete-looking",
   "metadata": {},
   "outputs": [],
   "source": [
    "# sizes investigation\n",
    "maxSpeedX = tracker[['x']].diff().max()\n"
   ]
  },
  {
   "cell_type": "code",
   "execution_count": null,
   "id": "df4a84c9",
   "metadata": {},
   "outputs": [],
   "source": []
  }
 ],
 "metadata": {
  "kernelspec": {
   "display_name": "Python 3",
   "language": "python",
   "name": "python3"
  },
  "language_info": {
   "codemirror_mode": {
    "name": "ipython",
    "version": 3
   },
   "file_extension": ".py",
   "mimetype": "text/x-python",
   "name": "python",
   "nbconvert_exporter": "python",
   "pygments_lexer": "ipython3",
   "version": "3.8.0"
  }
 },
 "nbformat": 4,
 "nbformat_minor": 5
}
